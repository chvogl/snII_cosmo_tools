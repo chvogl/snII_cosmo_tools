{
 "cells": [
  {
   "cell_type": "code",
   "execution_count": null,
   "metadata": {
    "scrolled": true
   },
   "outputs": [],
   "source": [
    "import bs4\n",
    "import warnings\n",
    "import numpy as np\n",
    "import pandas as pd\n",
    "import astropy.units as u\n",
    "import matplotlib.pyplot as plt\n",
    "from IPython.display import (display, HTML, display_html,\n",
    "                             Markdown, Latex)\n",
    "from ipywidgets import (Box, HBox, VBox, Layout,\n",
    "                        Button, HTML as HTML_widget)\n",
    "from astropy.coordinates import SkyCoord\n",
    "from astropy.table import Table\n",
    "from functools import partial\n",
    "from bokeh.plotting import show, output_notebook\n",
    "from snII_cosmo_tools import *"
   ]
  },
  {
   "cell_type": "code",
   "execution_count": null,
   "metadata": {},
   "outputs": [],
   "source": [
    "rsc = GladeRedshiftCatalogue('redshift_data/glade_v2.3.hdf')"
   ]
  },
  {
   "cell_type": "code",
   "execution_count": null,
   "metadata": {
    "scrolled": true
   },
   "outputs": [],
   "source": [
    "tns_request = TNSDownloader(number_of_days=2)\n",
    "#tns_request = TNSDownloader(number_of_days=150, obj_type='SN II')\n",
    "targets = insert_max_alt_in_frame(tns_request.result_compact)"
   ]
  },
  {
   "cell_type": "markdown",
   "metadata": {},
   "source": [
    "# Classification targets"
   ]
  },
  {
   "cell_type": "code",
   "execution_count": null,
   "metadata": {
    "scrolled": true
   },
   "outputs": [],
   "source": [
    "targets, names = insert_tns_links_into_df(targets)\n",
    "targets = insert_gal_lat_in_frame(targets)\n",
    "targets = insert_survey_links_into_df(targets)\n",
    "targets.index = names"
   ]
  },
  {
   "cell_type": "code",
   "execution_count": null,
   "metadata": {},
   "outputs": [],
   "source": [
    "tf = InteractiveTargetFilter(targets)\n",
    "targets_filtered = tf.interactive\n",
    "\n",
    "display(targets_filtered)"
   ]
  },
  {
   "cell_type": "code",
   "execution_count": null,
   "metadata": {},
   "outputs": [],
   "source": [
    "highlight_z = partial(highlight_general_traffic_light, levels=[0.03, 0.04, 0.12])\n",
    "highlight_abs_mag = partial(highlight_general_traffic_light, levels=[-18.0, -17.5, 1e4])"
   ]
  },
  {
   "cell_type": "code",
   "execution_count": null,
   "metadata": {
    "scrolled": false
   },
   "outputs": [],
   "source": [
    "%matplotlib widget\n",
    "plt.ioff()\n",
    "output_notebook()\n",
    "aladins = []\n",
    "tables = []\n",
    "\n",
    "layout = Layout(width='100%')\n",
    "layout.margin = '100px px 0px 0px'\n",
    "\n",
    "for i in range(len(targets_filtered.result)):\n",
    "    widgets = []\n",
    "\n",
    "    df_object = pd.DataFrame(targets_filtered.result.iloc[i].values[np.newaxis,:],\n",
    "                             columns=targets.columns)\n",
    "    \n",
    "    row = targets_filtered.result.iloc[i]\n",
    "    target_vis = TargetVisualizer.from_row(row)\n",
    "    \n",
    "    # Visibility\n",
    "    \n",
    "    with warnings.catch_warnings():\n",
    "        warnings.simplefilter(\"ignore\")\n",
    "        vis = InteractiveVisibility(skycoord=target_vis.coords)\n",
    "        vis_fig = vis.fig\n",
    "    \n",
    "    # Redshift\n",
    "    m = rsc.find_host_z_from_row(row, max_dist_kpc=40.)\n",
    "    checks = []\n",
    "    if len(m) > 0 or np.isfinite(row['Host Redshift']):\n",
    "        for brightness_category in ['bright', 'medium', 'faint']:\n",
    "            template = 'data/template_obs/ob_classification_{}.obx'.format(brightness_category)\n",
    "            obgen = OBGenerator.from_row(row, template_ob=template)\n",
    "            if obgen.magnitude.brightness_category == brightness_category:\n",
    "                button_style = 'success'\n",
    "            else:\n",
    "                button_style = 'danger'\n",
    "            check = Button(description=\"OB {}\".format(brightness_category),\n",
    "                           button_style=button_style)\n",
    "            check.on_click(obgen)\n",
    "            checks.append(check)\n",
    "        checks.append(HTML_widget(\"&emsp; \"*8))\n",
    "        checks.append(vis.interactive)\n",
    "        display(target_vis.html_label)\n",
    "        \n",
    "\n",
    "        widgets.append(HBox(checks))\n",
    "        a = TargetArchiver(row)\n",
    "        widgets.append(HBox([a.button, VBox([a.destination, a.text])]))\n",
    "        box = HBox([target_vis.aladin, vis_fig.canvas], layout=layout)\n",
    "        widgets.append(box)\n",
    "\n",
    "        vbox = VBox(widgets, layout=Layout(width='100%'))\n",
    "\n",
    "        display(vbox)\n",
    "\n",
    "        checks.append(check)\n",
    "\n",
    "        sdss_frame = pd.DataFrame([target_vis.sdss_html],\n",
    "                                  columns=['SDSS Skyserver'])\n",
    "        df_object_sdss = pd.concat([df_object, sdss_frame], axis=1)\n",
    "        display(HTML(get_styled_html_table(df_object_sdss)))\n",
    "        \n",
    "        if len(m) > 0:\n",
    "            redshift_table = m[rsc.comp_repr]\n",
    "            caption = 'Possible glade hosts'\n",
    "            table = rsc.generate_aladin_table(m)\n",
    "            aladins.append(target_vis.aladin)\n",
    "            tables.append(table)\n",
    "        else:\n",
    "            redshift_table = rsc.get_tns_host_from_row(row)\n",
    "            caption = 'TNS host'\n",
    "        display(HTML(redshift_table.style.apply(\n",
    "                highlight_z, subset=['z']).apply(highlight_abs_mag, subset=['abs_mag']\n",
    "                                            ).hide_index().set_caption(\n",
    "                                                    caption).set_properties(**{'width': '100%'}).render()))\n",
    "            \n",
    "        \n",
    "        if tf.obj_type.value != 'unclassified':\n",
    "            try:\n",
    "                spec = TNSSpectrum(row.name)\n",
    "                class_fig = spec.plot()\n",
    "                display(class_fig.canvas)\n",
    "            except TNSDownloadError:\n",
    "                print('No classification spectrum found')\n",
    "        internal_name = row.loc['Disc. Internal Name']\n",
    "        if type(internal_name) is str and 'ZTF' in internal_name:\n",
    "            try:\n",
    "                ztf_lc = ZtfLightCurveDownloader(\n",
    "                    bs4.BeautifulSoup(internal_name).text\n",
    "                )\n",
    "                lc_fig = ztf_lc.plot()\n",
    "                display(HTML('<br/>'))\n",
    "                show(lc_fig)\n",
    "            except:\n",
    "                print('Failed plotting ZTF light curve!')\n",
    "\n",
    "    else:\n",
    "        continue\n",
    "    display(HTML('<br/><br/><br/>'))\n",
    "\n",
    "# Add host galaxies to aladin widget\n",
    "for aladin, table in zip(aladins, tables):\n",
    "    aladin.add_table(table)"
   ]
  },
  {
   "cell_type": "markdown",
   "metadata": {},
   "source": [
    "## TODO:"
   ]
  },
  {
   "cell_type": "markdown",
   "metadata": {},
   "source": [
    "* highlight spectroscopic redshifts\n",
    "* add 2df redshift data, SDSS?\n",
    "* check separation calculation (specifically ordering)\n",
    "* option to archive targets"
   ]
  }
 ],
 "metadata": {
  "kernelspec": {
   "display_name": "Python 3",
   "language": "python",
   "name": "python3"
  },
  "language_info": {
   "codemirror_mode": {
    "name": "ipython",
    "version": 3
   },
   "file_extension": ".py",
   "mimetype": "text/x-python",
   "name": "python",
   "nbconvert_exporter": "python",
   "pygments_lexer": "ipython3",
   "version": "3.6.7"
  },
  "widgets": {
   "application/vnd.jupyter.widget-state+json": {
    "state": {
     "0ac107126c3d4ea0b87a567105b30ce7": {
      "model_module": "@jupyter-widgets/base",
      "model_module_version": "1.1.0",
      "model_name": "LayoutModel",
      "state": {}
     },
     "580c1ac495544f2caeaa6d176570d79b": {
      "model_module": "ipyaladin",
      "model_module_version": "0.1.3",
      "model_name": "ModelAladin",
      "state": {
       "_dom_classes": [],
       "_model_module": "ipyaladin",
       "_view_count": null,
       "_view_module": "ipyaladin",
       "allow_full_zoomout": false,
       "color_map_flag": true,
       "color_map_name": "",
       "coo_frame": "J2000",
       "fov": 0.99851,
       "full_screen": false,
       "layout": "IPY_MODEL_0ac107126c3d4ea0b87a567105b30ce7",
       "listener_flag": true,
       "listener_type": "",
       "log": true,
       "moc_URL": "",
       "moc_dict": {},
       "moc_from_URL_flag": true,
       "moc_from_dict_flag": true,
       "moc_options": {},
       "options": [
        "allow_full_zoomout",
        "coo_frame",
        "fov",
        "full_screen",
        "log",
        "overlay_survey",
        "overlay_survey_opacity",
        "reticle_color",
        "reticle_size",
        "show_catalog",
        "show_coo_grid",
        "show_frame",
        "show_fullscreen_control",
        "show_goto_control",
        "show_layers_control",
        "show_reticle",
        "show_share_control",
        "show_zoom_control",
        "survey",
        "target"
       ],
       "overlay_survey": "",
       "overlay_survey_opacity": 0,
       "rectangular_selection_flag": true,
       "reticle_color": "rgb(178, 50, 178)",
       "reticle_size": 22,
       "show_catalog": true,
       "show_coo_grid": false,
       "show_frame": true,
       "show_fullscreen_control": true,
       "show_goto_control": true,
       "show_layers_control": true,
       "show_reticle": true,
       "show_share_control": false,
       "show_zoom_control": true,
       "survey": "P/DSS2/color",
       "table_columns": [],
       "table_flag": true,
       "table_keys": [],
       "target": "202.469575 47.195258",
       "thumbnail_flag": true,
       "votable_URL": "",
       "votable_from_URL_flag": true,
       "votable_options": {}
      }
     }
    },
    "version_major": 2,
    "version_minor": 0
   }
  }
 },
 "nbformat": 4,
 "nbformat_minor": 4
}
