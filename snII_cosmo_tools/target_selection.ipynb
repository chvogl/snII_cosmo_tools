{
 "cells": [
  {
   "cell_type": "code",
   "execution_count": null,
   "metadata": {
    "scrolled": true
   },
   "outputs": [],
   "source": [
    "import warnings\n",
    "import astropy.units as u\n",
    "import ipyaladin.aladin_widget as ipal\n",
    "import matplotlib.pyplot as plt\n",
    "from style import (highlight_dec_cut, highlight_visibility, \n",
    "                   insert_tns_links_into_df,\n",
    "                   insert_survey_links_into_df,\n",
    "                   highlight_gal_lat, get_styled_html_table,\n",
    "                   highlight_general_traffic_light)\n",
    "from tns_downloader import TNSDownloader\n",
    "from filter_targets import TargetFilter\n",
    "from visibility import insert_max_alt_in_frame, insert_gal_lat_in_frame\n",
    "from visualization import get_aladin_coords\n",
    "from IPython.display import (display, HTML, display_html,\n",
    "                             Markdown, Latex)\n",
    "from ipywidgets import (Box, HBox, VBox, Label, Layout,\n",
    "                        ToggleButtons, FloatSlider, widgets,\n",
    "                        interactive, Button)\n",
    "from ipywidgets import HTML as HTML_widget\n",
    "from astropy.coordinates import SkyCoord\n",
    "from astropy.table import Table\n",
    "from visibility import Visibility\n",
    "from redshift import GladeRedshiftCatalogue\n",
    "from ob_generation import OBGenerator\n",
    "from functools import partial"
   ]
  },
  {
   "cell_type": "code",
   "execution_count": null,
   "metadata": {
    "scrolled": true
   },
   "outputs": [],
   "source": [
    "# Uncomment this to parse data from the TNS\n",
    "\n",
    "#tns_request = TNSDownloader(number_of_days=2)\n",
    "#targets = insert_max_alt_in_frame(tns_request.result_compact)\n",
    "#targets.to_hdf('data/targets.hdf', 'targets')\n",
    "\n",
    "targets = pd.HDFStore('data/targets.hdf', mode='r')['targets']"
   ]
  },
  {
   "cell_type": "markdown",
   "metadata": {},
   "source": [
    "# Classification targets"
   ]
  },
  {
   "cell_type": "code",
   "execution_count": null,
   "metadata": {
    "scrolled": true
   },
   "outputs": [],
   "source": [
    "targets, names = insert_tns_links_into_df(targets)\n",
    "targets = insert_gal_lat_in_frame(targets)\n",
    "targets = insert_survey_links_into_df(targets)\n",
    "targets.index = names"
   ]
  },
  {
   "cell_type": "code",
   "execution_count": null,
   "metadata": {},
   "outputs": [],
   "source": [
    "rsc = GladeRedshiftCatalogue('redshift_data/glade_v2.3.hdf')"
   ]
  },
  {
   "cell_type": "code",
   "execution_count": null,
   "metadata": {},
   "outputs": [],
   "source": [
    "obj_type = ToggleButtons(\n",
    "    options=['unclassified', 'SN II', 'SN IIP', 'SN Ia'],\n",
    "    description='Type:',\n",
    "    disabled=False,\n",
    "    button_style=''\n",
    ")\n",
    "max_alt = FloatSlider(\n",
    "    value=30.,\n",
    "    min=0.,\n",
    "    max=90.,\n",
    "    step=2.,\n",
    "    description='Max alt cut:',\n",
    "    disabled=False,\n",
    "    continuous_update=False,\n",
    "    orientation='horizontal',\n",
    "    readout=True,\n",
    "    readout_format='.1f',\n",
    ")\n",
    "mag_cut = FloatSlider(\n",
    "    value=17.,\n",
    "    min=10.,\n",
    "    max=22.,\n",
    "    step=0.25,\n",
    "    description='Max mag cut:',\n",
    "    disabled=False,\n",
    "    continuous_update=False,\n",
    "    orientation='horizontal',\n",
    "    readout=True,\n",
    "    readout_format='.1f',\n",
    ")\n",
    "\n",
    "tf = TargetFilter(targets)\n",
    "targets_filtered = interactive(tf.filter_targets, obj_type=obj_type,\n",
    "                               max_alt=max_alt, mag_cut=mag_cut)\n",
    "#targets_filtered.layout.flex_flow = 'column'\n",
    "#targets_filtered.layout.border='solid'\n",
    "\n",
    "display(targets_filtered)"
   ]
  },
  {
   "cell_type": "code",
   "execution_count": null,
   "metadata": {},
   "outputs": [],
   "source": [
    "highlight_z = partial(highlight_general_traffic_light, levels=[0.03, 0.04, 0.12])\n",
    "highlight_abs_mag = partial(highlight_general_traffic_light, levels=[-18.0, -17.5, 1e4])"
   ]
  },
  {
   "cell_type": "code",
   "execution_count": null,
   "metadata": {
    "scrolled": false
   },
   "outputs": [],
   "source": [
    "%matplotlib widget\n",
    "plt.ioff()\n",
    "\n",
    "\n",
    "checks = []\n",
    "aladins = []\n",
    "tables = []\n",
    "\n",
    "layout_aladin = Layout(width='40.00%')\n",
    "layout_aladin.margin = '87.5px 0px 0px 75px'\n",
    "\n",
    "layout = Layout(width='100%')\n",
    "layout.margin = '100px px 0px 0px'\n",
    "\n",
    "for i in range(len(targets_filtered.result)):\n",
    "    widgets = []\n",
    "\n",
    "    df_object = pd.DataFrame(targets_filtered.result.iloc[i].values[np.newaxis,:],\n",
    "                             columns=targets.columns)\n",
    "    \n",
    "    row = targets_filtered.result.iloc[i]\n",
    "    coord = SkyCoord(row.RA, row.DEC, unit=(u.hourangle, u.deg))\n",
    "    \n",
    "    label = Label(r'\\(\\color{red}{' + row.name + '}\\)')\n",
    "    \n",
    "    # Aladin widgets\n",
    "    \n",
    "    if coord.dec < -30. * u.deg:\n",
    "        survey = 'P/DSS2/color'  # 'P/SDSS9/color'\n",
    "    else:\n",
    "        survey = 'P/PanSTARRS/DR1/color-z-zg-g'\n",
    "    aladin = ipal.Aladin(target=get_aladin_coords(targets_filtered.result, i),\n",
    "                         layout=layout_aladin, fov=0.0333,\n",
    "                         survey=survey)\n",
    "    \n",
    "    # Visibility\n",
    "    \n",
    "    with warnings.catch_warnings():\n",
    "        warnings.simplefilter(\"ignore\")\n",
    "        vis_fig = Visibility(skycoord=coord).plot()\n",
    "    \n",
    "    # Redshift\n",
    "    m = rsc.find_host_z_from_row(row, max_dist_kpc=40.)\n",
    "    \n",
    "    if len(m) > 0:\n",
    "        check = Button(description=\"Generate OB!\")\n",
    "        obgen = OBGenerator.from_row(row)\n",
    "        check.on_click(obgen)\n",
    "\n",
    "        widgets.append(HBox([label, check]))\n",
    "        box = HBox([aladin, vis_fig.canvas], layout=layout)\n",
    "        widgets.append(box)\n",
    "\n",
    "        vbox = VBox(widgets, layout=Layout(width='100%'))\n",
    "\n",
    "        display(vbox)\n",
    "\n",
    "        checks.append(check)\n",
    "\n",
    "        display(HTML(get_styled_html_table(df_object)))\n",
    "        display(HTML(m[rsc.comp_repr].style.apply(\n",
    "            highlight_z, subset=['z']).apply(highlight_abs_mag, subset=['abs_mag']\n",
    "                                            ).hide_index().set_caption(\n",
    "                                                    'Possible hosts').render()))\n",
    "        table = rsc.generate_aladin_table(m)\n",
    "        aladins.append(aladin)\n",
    "        tables.append(table)\n",
    "    else:\n",
    "        continue\n",
    "\n",
    "    \n",
    "    display(HTML('<hr />' + '-' * 200))\n",
    "\n",
    "# Add host galaxies to aladin widget\n",
    "for aladin, table in zip(aladins, tables):\n",
    "    aladin.add_table(table)"
   ]
  },
  {
   "cell_type": "markdown",
   "metadata": {},
   "source": [
    "## TODO:"
   ]
  },
  {
   "cell_type": "markdown",
   "metadata": {},
   "source": [
    "* highlight spectroscopic redshifts\n",
    "* add 2df redshift data, SDSS?"
   ]
  }
 ],
 "metadata": {
  "kernelspec": {
   "display_name": "Python 3",
   "language": "python",
   "name": "python3"
  },
  "language_info": {
   "codemirror_mode": {
    "name": "ipython",
    "version": 3
   },
   "file_extension": ".py",
   "mimetype": "text/x-python",
   "name": "python",
   "nbconvert_exporter": "python",
   "pygments_lexer": "ipython3",
   "version": "3.6.7"
  },
  "widgets": {
   "application/vnd.jupyter.widget-state+json": {
    "state": {
     "0ac107126c3d4ea0b87a567105b30ce7": {
      "model_module": "@jupyter-widgets/base",
      "model_module_version": "1.1.0",
      "model_name": "LayoutModel",
      "state": {}
     },
     "580c1ac495544f2caeaa6d176570d79b": {
      "model_module": "ipyaladin",
      "model_module_version": "0.1.3",
      "model_name": "ModelAladin",
      "state": {
       "_dom_classes": [],
       "_model_module": "ipyaladin",
       "_view_count": null,
       "_view_module": "ipyaladin",
       "allow_full_zoomout": false,
       "color_map_flag": true,
       "color_map_name": "",
       "coo_frame": "J2000",
       "fov": 0.99851,
       "full_screen": false,
       "layout": "IPY_MODEL_0ac107126c3d4ea0b87a567105b30ce7",
       "listener_flag": true,
       "listener_type": "",
       "log": true,
       "moc_URL": "",
       "moc_dict": {},
       "moc_from_URL_flag": true,
       "moc_from_dict_flag": true,
       "moc_options": {},
       "options": [
        "allow_full_zoomout",
        "coo_frame",
        "fov",
        "full_screen",
        "log",
        "overlay_survey",
        "overlay_survey_opacity",
        "reticle_color",
        "reticle_size",
        "show_catalog",
        "show_coo_grid",
        "show_frame",
        "show_fullscreen_control",
        "show_goto_control",
        "show_layers_control",
        "show_reticle",
        "show_share_control",
        "show_zoom_control",
        "survey",
        "target"
       ],
       "overlay_survey": "",
       "overlay_survey_opacity": 0,
       "rectangular_selection_flag": true,
       "reticle_color": "rgb(178, 50, 178)",
       "reticle_size": 22,
       "show_catalog": true,
       "show_coo_grid": false,
       "show_frame": true,
       "show_fullscreen_control": true,
       "show_goto_control": true,
       "show_layers_control": true,
       "show_reticle": true,
       "show_share_control": false,
       "show_zoom_control": true,
       "survey": "P/DSS2/color",
       "table_columns": [],
       "table_flag": true,
       "table_keys": [],
       "target": "202.469575 47.195258",
       "thumbnail_flag": true,
       "votable_URL": "",
       "votable_from_URL_flag": true,
       "votable_options": {}
      }
     }
    },
    "version_major": 2,
    "version_minor": 0
   }
  }
 },
 "nbformat": 4,
 "nbformat_minor": 2
}
